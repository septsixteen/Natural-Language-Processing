{
 "cells": [
  {
   "cell_type": "markdown",
   "metadata": {},
   "source": [
    "# Words Correction and Word Matching Using Edit Distance, Stop Words Removal and Stemmer Analysis Using Porter Stemmer \n",
    "\n",
    "By Heidi Nguyen"
   ]
  },
  {
   "cell_type": "markdown",
   "metadata": {},
   "source": [
    "<a id=\"top\"></a>\n",
    "\n",
    "# Table of Contents\n",
    "\n",
    "\n",
    "- [I. Edit Distance](#editDist)\n",
    "\n",
    "- [II. Removing Stop Words](#noStopWords)\n",
    "\n",
    "- [III. Stemmer Analysis](#Stemmer)\n",
    "\n",
    "- [IV. Reference](#ref)\n",
    "\n",
    "- [V. Appendix](#appd)\n"
   ]
  },
  {
   "cell_type": "code",
   "execution_count": 2,
   "metadata": {},
   "outputs": [],
   "source": [
    "# libraries\n",
    "from pandas import DataFrame,Series\n",
    "import pandas as pd\n",
    "import numpy as np\n",
    "import seaborn as sns\n",
    "import matplotlib.pylab as plt\n",
    "from collections import Counter\n",
    "import os # to set wd # # os.environ['KERAS_BACKEND']='tensorflow' for keras\n",
    "import re\n",
    "import sys\n",
    "\n",
    "# download the csv files with urllib2\n",
    "import urllib2\n",
    "\n",
    "# get time stamp\n",
    "import time\n",
    "import csv\n",
    "from datetime import datetime\n",
    "\n",
    "# import Image\n",
    "from IPython.display import Image\n",
    "\n",
    "# json \n",
    "import json \n",
    "import requests\n",
    "# BeautifulSoup \n",
    "from bs4 import BeautifulSoup\n",
    "import  codecs # that’s to take care of things like accented characters, which are represented in different ways on\n",
    "\n",
    "from __future__ import division\n",
    "# conda install -c anaconda networkx\n",
    "# conda install -c anaconda nltk\n",
    "# Prover9 is not yet available for anaconda\n",
    "import networkx\n",
    "import nltk"
   ]
  },
  {
   "cell_type": "markdown",
   "metadata": {},
   "source": [
    "<a id=\"editDist\"></a>\n",
    "\n",
    "#  Edit Distance\n",
    "\n",
    "## 1a. The edit distance between my surname and my nickname:\n",
    "\n",
    "Edit Distance is the minimum number of single-character insertions, deletions, or replacements required to convert one string into another. \n",
    "\n",
    "We can compute the edit distance between two strings by working from the ends. The three operations are:\n",
    "\n",
    "    - Add one character to the end of a string\n",
    "\n",
    "    - Remove one character from the end of a string\n",
    "\n",
    "    - Change the character at the end of a string.\n",
    " \n",
    " \n",
    "In each case, we recursively compute the distance (number of adds, removes, and changes) required to “set up” a final add, a final remove, or a final change. We add one to the add distance and the remove distance to account for the final add or remove. For the change distance, we add one only if the final characters in the strings are different (if not, no final change is required). \n",
    " \n",
    " <a href=\"#top\">Back to top</a>\n"
   ]
  },
  {
   "cell_type": "code",
   "execution_count": 3,
   "metadata": {},
   "outputs": [
    {
     "name": "stdout",
     "output_type": "stream",
     "text": [
      "(\"The edit distance between my surname 'Heidi' and my nick name 'Hellena' is: \", 5)\n"
     ]
    }
   ],
   "source": [
    "# using nltk\n",
    "import nltk\n",
    "\n",
    "# from __future__ import print_function\n",
    "# from nltk.metrics import *\n",
    "\n",
    "name = \"Heidi\"\n",
    "nick = \"Hellena\"\n",
    "# first, normalize the name by turning then to lowercase, then get the distance\n",
    "\n",
    "# nltk.edit_distance(s1, s2, transpositions=False)\n",
    "edit_distance = nltk.edit_distance(nick.lower(), name.lower())\n",
    "print (\"The edit distance between my surname 'Heidi' and my nick name 'Hellena' is: \" , edit_distance)"
   ]
  },
  {
   "cell_type": "code",
   "execution_count": 4,
   "metadata": {},
   "outputs": [
    {
     "data": {
      "text/plain": [
       "(5,    h  e  i  d  i\n",
       " h  0  1  2  3  4\n",
       " e  1  0  1  2  3\n",
       " l  2  1  1  2  3\n",
       " l  3  2  2  2  3\n",
       " e  4  3  3  3  3\n",
       " n  5  4  4  4  4\n",
       " a  6  5  5  5  5)"
      ]
     },
     "execution_count": 4,
     "metadata": {},
     "output_type": "execute_result"
    }
   ],
   "source": [
    "# from Sankar, for printing out the matrix\n",
    "import copy\n",
    "import pandas as pd\n",
    "def levenshtein_edit_distance(u, v):\n",
    "    # convert to lower case\n",
    "    u = u.lower()\n",
    "    v = v.lower()\n",
    "    # base cases\n",
    "    if u == v: return 0\n",
    "    elif len(u) == 0: return len(v)\n",
    "    elif len(v) == 0: return len(u)\n",
    "    # initialize edit distance matrix\n",
    "    edit_matrix = []\n",
    "    # initialize two distance matrices\n",
    "    du = [0] * (len(v) + 1)\n",
    "    dv = [0] * (len(v) + 1)\n",
    "    # du: the previous row of edit distances\n",
    "    for i in range(len(du)):\n",
    "        du[i] = i\n",
    "    # dv : the current row of edit distances\n",
    "    for i in range(len(u)):\n",
    "        dv[0] = i + 1\n",
    "        # compute cost as per algorithm\n",
    "        for j in range(len(v)):\n",
    "            cost = 0 if u[i] == v[j] else 1\n",
    "            dv[j + 1] = min(dv[j] + 1, du[j + 1] + 1, du[j] + cost)\n",
    "        # assign dv to du for next iteration\n",
    "        for j in range(len(du)):\n",
    "            du[j] = dv[j]\n",
    "        # copy dv to the edit matrix\n",
    "        edit_matrix.append(copy.copy(dv))\n",
    "    # compute the final edit distance and edit matrix\n",
    "    distance = dv[len(v)]\n",
    "    edit_matrix = np.array(edit_matrix)\n",
    "    edit_matrix = edit_matrix.T\n",
    "    edit_matrix = edit_matrix[1:,]\n",
    "    edit_matrix = pd.DataFrame(data=edit_matrix,\n",
    "                               index=list(v),\n",
    "                               columns=list(u))\n",
    "    return distance, edit_matrix\n",
    "\n",
    "levenshtein_edit_distance(name.lower(), nick.lower())\n"
   ]
  },
  {
   "cell_type": "markdown",
   "metadata": {},
   "source": [
    "## 1b. String Match Percentage\n",
    "\n",
    "The Word/String Match Percentage comparison determines how closely two multi-word/letters values match each other by calculating the Word/String Edit Distance between two Strings, and also taking into account the length of the longer or the shorter of the two values, by word/letter count.\n",
    "\n",
    "In mathematical terms, the Word/String Match Percentage comparison uses the following formula to calculate its results:\n",
    "\n",
    "<br>\n",
    "\n",
    "   <center>$$WMP = \\frac{MWL - WED}{WL}*100\\%$$</center>\n",
    "\n",
    "where:\n",
    "\n",
    "WMP = Word/String Match Percentage\n",
    "\n",
    "MWL = Maximum Word/String Length (the maximum number of words/letters in the two values being compared)\n",
    "\n",
    "WED = the Word/String Edit Distance between two String values, and\n",
    "\n",
    "WL = Either the Maximum or Minimum Word/String Length, depending on the setting of the Relate to shorter input option. If Relate to shorter input is set to No (as by default), the Maximum Word Length is used. If Relate to shorter input is set to Yes, the Minimum Word Length is used (that is, the number of words in the shorter of the two values by word count).\n",
    "\n",
    "**For comparing my name and my nick name, I'm going to use:** \n",
    "\n",
    "<br>\n",
    "\n",
    "\n",
    "<center>$$WMP = \\frac{larger.string.length - edit.distance}{larger.string.length}*100\\%$$</center>\n",
    "\n",
    "<br/>"
   ]
  },
  {
   "cell_type": "code",
   "execution_count": 5,
   "metadata": {},
   "outputs": [
    {
     "name": "stdout",
     "output_type": "stream",
     "text": [
      "Percentage string match between my nickname and my given name is: \n",
      "28.57%\n"
     ]
    }
   ],
   "source": [
    "# String Match Percentage respect to name = \"Heidi\" and nick = \"Hellena\"\n",
    "\n",
    "larger_string_len = max(len(name),len(nick))\n",
    "\n",
    "word_map_pct = (larger_string_len- edit_distance)/larger_string_len\n",
    "\n",
    "print (\"Percentage string match between my nickname and my given name is: \\n\" + \"{:.2%}\".format(word_map_pct)) # 2 decimal places\n"
   ]
  },
  {
   "cell_type": "markdown",
   "metadata": {},
   "source": [
    "<a id=\"noStopWords\"></a>\n",
    "\n",
    "\n",
    "# Removing Stop Words\n",
    "\n",
    "    ‘I took a wrong turning on the way to the bathroom and found myself in a beautifully proportioned room I have never seen before, containing a really rather magnificent collection of chamberpots. When I went back to investigate more closely, I discovered that the room had vanished. But I must keep an eye out for it. Possibly it is only accessible at five thirty in the morning. Or it may only appear at the quarter moon – or when the seeker has an exceptionally full bladder.’ - From Harry Potter and the Goblet of Fire \n",
    "    \n",
    "    \n",
    " <a href=\"#top\">Back to top</a>"
   ]
  },
  {
   "cell_type": "code",
   "execution_count": 6,
   "metadata": {},
   "outputs": [],
   "source": [
    "import nltk\n",
    "import re\n",
    "import string\n",
    "from pprint import pprint\n",
    "\n",
    "# function to break the excerpt into sentences, then words\n",
    "def tokenize_text(document):\n",
    "    sentences = nltk.sent_tokenize(document)\n",
    "    word_tokens = [nltk.word_tokenize(sentence) for sentence in sentences]\n",
    "    return word_tokens"
   ]
  },
  {
   "cell_type": "code",
   "execution_count": 7,
   "metadata": {},
   "outputs": [
    {
     "name": "stdout",
     "output_type": "stream",
     "text": [
      "[['I', 'took', 'a', 'wrong', 'turning', 'on', 'the', 'way', 'to', 'the', 'bathroom', 'and', 'found', 'myself', 'in', 'a', 'beautifully', 'proportioned', 'room', 'I', 'have', 'never', 'seen', 'before', ',', 'containing', 'a', 'really', 'rather', 'magnificent', 'collection', 'of', 'chamberpots', '.'], ['When', 'I', 'went', 'back', 'to', 'investigate', 'more', 'closely', ',', 'I', 'discovered', 'that', 'the', 'room', 'had', 'vanished', '.'], ['But', 'I', 'must', 'keep', 'an', 'eye', 'out', 'for', 'it', '.'], ['Possibly', 'it', 'is', 'only', 'accessible', 'at', 'five', 'thirty', 'in', 'the', 'morning', '.'], ['Or', 'it', 'may', 'only', 'appear', 'at', 'the', 'quarter', 'moon', '-', 'or', 'when', 'the', 'seeker', 'has', 'an', 'exceptionally', 'full', 'bladder', '.']]\n"
     ]
    }
   ],
   "source": [
    "# break the excerpt into sentences, then words\n",
    "# these are sentence tokens\n",
    "document = 'I took a wrong turning on the way to the bathroom and found myself in a beautifully proportioned room I have never seen before, containing a really rather magnificent collection of chamberpots. When I went back to investigate more closely, I discovered that the room had vanished. But I must keep an eye out for it. Possibly it is only accessible at five thirty in the morning. Or it may only appear at the quarter moon – or when the seeker has an exceptionally full bladder.' \n",
    "tokenized_text = tokenize_text(document)\n",
    "\n",
    "# correct the dash back by replacing \\xe2\\x80\\x93' with '-'\n",
    "for sentence in tokenized_text:\n",
    "    \n",
    "    for (i, item) in enumerate(sentence):\n",
    "        if item == '\\xe2\\x80\\x93':\n",
    "            sentence[i] = item.replace(\"\\xe2\\x80\\x93\", \"-\")\n",
    "#         mylist[i] = 0\n",
    "#     print (sentence)\n",
    "print (tokenized_text)"
   ]
  },
  {
   "cell_type": "code",
   "execution_count": 8,
   "metadata": {},
   "outputs": [],
   "source": [
    "# import stopwords list and look at the first few in the list\n",
    "# from nltk.corpus import stopwords\n",
    "# nltk.corpus.stopwords.words('english')[:10] \n",
    "\n",
    "# function to remove stopwords from tokens \n",
    "def remove_stopwords(tokens):\n",
    "    stopword_list = nltk.corpus.stopwords.words('english') # nltk.corpus.stopwords.words('english')\n",
    "    # first, lower the case, then remove the words from the stopword list\n",
    "    filtered_tokens = [token for token in tokens if token.lower() not in stopword_list]\n",
    "    return filtered_tokens"
   ]
  },
  {
   "cell_type": "code",
   "execution_count": 9,
   "metadata": {},
   "outputs": [
    {
     "data": {
      "text/plain": [
       "[['took',\n",
       "  'wrong',\n",
       "  'turning',\n",
       "  'way',\n",
       "  'bathroom',\n",
       "  'found',\n",
       "  'beautifully',\n",
       "  'proportioned',\n",
       "  'room',\n",
       "  'never',\n",
       "  'seen',\n",
       "  ',',\n",
       "  'containing',\n",
       "  'really',\n",
       "  'rather',\n",
       "  'magnificent',\n",
       "  'collection',\n",
       "  'chamberpots',\n",
       "  '.'],\n",
       " ['went',\n",
       "  'back',\n",
       "  'investigate',\n",
       "  'closely',\n",
       "  ',',\n",
       "  'discovered',\n",
       "  'room',\n",
       "  'vanished',\n",
       "  '.'],\n",
       " ['must', 'keep', 'eye', '.'],\n",
       " ['Possibly', 'accessible', 'five', 'thirty', 'morning', '.'],\n",
       " ['may',\n",
       "  'appear',\n",
       "  'quarter',\n",
       "  'moon',\n",
       "  '-',\n",
       "  'seeker',\n",
       "  'exceptionally',\n",
       "  'full',\n",
       "  'bladder',\n",
       "  '.']]"
      ]
     },
     "execution_count": 9,
     "metadata": {},
     "output_type": "execute_result"
    }
   ],
   "source": [
    "# return a list of those that are not in the stopwords list \n",
    "filtered_list =  [remove_stopwords(tokens) for tokens in tokenized_text]\n",
    "filtered_list \n"
   ]
  },
  {
   "cell_type": "code",
   "execution_count": 10,
   "metadata": {},
   "outputs": [
    {
     "data": {
      "text/plain": [
       "'took wrong turning way bathroom found beautifully proportioned room never seen, containing really rather magnificent collection chamberpots. went back investigate closely, discovered room vanished. must keep eye. Possibly accessible five thirty morning. may appear quarter moon - seeker exceptionally full bladder.'"
      ]
     },
     "execution_count": 10,
     "metadata": {},
     "output_type": "execute_result"
    }
   ],
   "source": [
    "# nltk.__version__\n",
    "from nltk.tokenize.treebank import TreebankWordDetokenizer\n",
    "\n",
    "# detokenize to put back the sentences\n",
    "de_sentence = []\n",
    "for wordlist in filtered_list:\n",
    "    de_wordlist = TreebankWordDetokenizer().detokenize(wordlist)\n",
    "    de_sentence.append(de_wordlist)\n",
    "\n",
    "# get back the text\n",
    "# \",\".join(de_sentence).replace(\"\\xe2\\x80\\x93\", \"-\").replace(\".,\", \".\")\n",
    "\",\".join(de_sentence).replace(\".,\", \". \")"
   ]
  },
  {
   "cell_type": "code",
   "execution_count": 11,
   "metadata": {},
   "outputs": [],
   "source": [
    "# #using pattern.en\n",
    "# from pattern.en import parse\n",
    "\n",
    "# parse_result = parse(document, relation=True, lemmata=True)\n",
    "# parse_result "
   ]
  },
  {
   "cell_type": "markdown",
   "metadata": {},
   "source": [
    "#### Yes the friend could still recognize the sentences and its content because of those key words and content words, especiallly key words like \"chamberpots\", \"quarter moon\". \n",
    "\n",
    " <a href=\"#top\">Back to top</a>"
   ]
  },
  {
   "cell_type": "markdown",
   "metadata": {},
   "source": [
    "<a id=\"Stemmer\"></a>\n",
    "\n",
    "## Stemmer Analysis using Porter Stemmer \n",
    "\n",
    " <a href=\"#top\">Back to top</a>"
   ]
  },
  {
   "cell_type": "code",
   "execution_count": 12,
   "metadata": {},
   "outputs": [
    {
     "data": {
      "text/plain": [
       "['I', 'took', 'a', 'wrong', u'turn', 'on', 'the', 'way', 'to', 'the']"
      ]
     },
     "execution_count": 12,
     "metadata": {},
     "output_type": "execute_result"
    }
   ],
   "source": [
    "# import Porter Stemmer\n",
    "from nltk.stem import PorterStemmer\n",
    "porter = PorterStemmer()\n",
    "#print (porter.stem('jumping'), porter.stem('jumps'), porter.stem('jumped')) # testing\n",
    "\n",
    "stemmed_list =  [porter.stem(word) for tokens in tokenized_text for word in tokens]\n",
    "# stemmed_list \n",
    "stemmed_list[:10]"
   ]
  },
  {
   "cell_type": "code",
   "execution_count": 13,
   "metadata": {},
   "outputs": [
    {
     "name": "stdout",
     "output_type": "stream",
     "text": [
      "('Total numbers of words to be match: ', 93)\n",
      "('Number of exact match: ', 70)\n",
      "('Pairs of not exact match: ', [[u'turn', 'turning'], [u'beauti', 'beautifully'], [u'proport', 'proportioned'], [u'befor', 'before'], [u'contain', 'containing'], [u'realli', 'really'], [u'magnific', 'magnificent'], [u'collect', 'collection'], [u'chamberpot', 'chamberpots'], ['when', 'When'], [u'investig', 'investigate'], [u'close', 'closely'], [u'discov', 'discovered'], [u'vanish', 'vanished'], ['but', 'But'], [u'possibl', 'Possibly'], [u'onli', 'only'], [u'access', 'accessible'], [u'thirti', 'thirty'], [u'morn', 'morning'], [u'onli', 'only'], [u'ha', 'has'], [u'except', 'exceptionally']])\n"
     ]
    }
   ],
   "source": [
    "# make the 2 lists in the same format for side by side comparision\n",
    "tokenized_text_flatten =[word for tokens in tokenized_text for word in tokens]\n",
    "#check in len\n",
    "len(stemmed_list) == len(tokenized_text_flatten)\n",
    "exact = [] \n",
    "diff = []\n",
    "for x,y in zip(stemmed_list, tokenized_text_flatten):\n",
    "    if x==y: \n",
    "        exact.append([x,y])\n",
    "    else: \n",
    "        diff.append([x,y])\n",
    "        \n",
    "print (\"Total numbers of words to be match: \", len(stemmed_list))\n",
    "print (\"Number of exact match: \", len(exact))\n",
    "print (\"Pairs of not exact match: \", diff)"
   ]
  },
  {
   "cell_type": "code",
   "execution_count": 14,
   "metadata": {},
   "outputs": [
    {
     "data": {
      "image/png": "[encoded data removed]",
      "text/plain": [
       "<Figure size 640x480 with 1 Axes>"
      ]
     },
     "metadata": {},
     "output_type": "display_data"
    }
   ],
   "source": [
    "import matplotlib.pyplot as plt; plt.rcdefaults()\n",
    "import numpy as np\n",
    "import matplotlib.pyplot as plt\n",
    " \n",
    "objects = ('exact match', 'no exact match')\n",
    "y_pos = np.arange(len(objects))\n",
    "performance = [len(exact), len(diff)]\n",
    "\n",
    "# create plot\n",
    "fig, ax = plt.subplots()\n",
    "\n",
    "plt.bar(y_pos, performance, align='center', alpha=0.5)\n",
    "plt.xticks(y_pos, objects)\n",
    "plt.ylabel('Usage')\n",
    "plt.title('Stemmer Result: exact match vs. not exact match')\n",
    " \n",
    "plt.show()\n"
   ]
  },
  {
   "cell_type": "markdown",
   "metadata": {},
   "source": [
    "\n",
    "## Checking those in the not exact match to determine if thos outputted stems are valid morphological roots of the corresponding words:\n",
    "\n",
    "**Valid morphological roots list: 10**\n",
    "    \n",
    "[u'turn', 'turning']\n",
    "[u'contain', 'containing'] \n",
    "[u'collect', 'collection']\n",
    "[u'chamberpot', 'chamberpots']\n",
    "['when', 'When']\n",
    "[u'close', 'closely']\n",
    "[u'vanish', 'vanished']\n",
    "['but', 'But']\n",
    "[u'access', 'accessible']\n",
    "[u'except', 'exceptionally']]\n",
    "\n",
    "**Not valid morphological roots list: 13**\n",
    "    \n",
    "[u'beauti', 'beautifully'] \n",
    "[u'proport', 'proportioned']\n",
    "[u'befor', 'before']\n",
    "[u'realli', 'really']\n",
    "[u'magnific', 'magnificent']\n",
    "[u'investig', 'investigate']\n",
    "[u'discov', 'discovered']\n",
    "[u'possibl', 'Possibly']\n",
    "[u'onli', 'only']\n",
    "[u'thirti', 'thirty']\n",
    "[u'morn', 'morning']\n",
    "[u'onli', 'only']\n",
    "[u'ha', 'has']"
   ]
  },
  {
   "cell_type": "code",
   "execution_count": 15,
   "metadata": {},
   "outputs": [
    {
     "name": "stdout",
     "output_type": "stream",
     "text": [
      "Percentage of outputted stems that are valid morphological roots of the corresponding words: 89.25%\n"
     ]
    }
   ],
   "source": [
    "# result of valid morphological roots \n",
    "\n",
    "valid_morphological_pct = (len(exact) + 13)/len(tokenized_text_flatten)\n",
    "\n",
    "print (\"Percentage of outputted stems that are valid morphological roots of the corresponding words: \" + \"{:.2%}\".format(valid_morphological_pct)) \n"
   ]
  },
  {
   "cell_type": "code",
   "execution_count": 16,
   "metadata": {},
   "outputs": [
    {
     "data": {
      "image/png": "[encoded data removed]",
      "text/plain": [
       "<Figure size 1000x500 with 1 Axes>"
      ]
     },
     "metadata": {},
     "output_type": "display_data"
    }
   ],
   "source": [
    "\n",
    "# put the result into a dataframe\n",
    "result = pd.DataFrame({\"valid morphological roots\": [83], \"not valid morphological roots\": [10]})\n",
    "\n",
    "# Change this line to plot percentages instead of absolute values\n",
    "ax = (result.div(result.sum(1), axis=0)).plot(kind='bar',figsize=(10,5),width = 1.8,edgecolor=None)\n",
    "plt.legend(labels=result.columns,fontsize= 14)\n",
    "plt.title(\"Stemmer Result: valid morphological roots vs. not valid morphological roots\",fontsize= 16)\n",
    "\n",
    "plt.xticks(fontsize=14)\n",
    "for spine in plt.gca().spines.values():\n",
    "    spine.set_visible(False)\n",
    "plt.yticks([])\n",
    "\n",
    "# Add this loop to add the annotations\n",
    "for p in ax.patches:\n",
    "    width, height = p.get_width(), p.get_height()\n",
    "    x, y = p.get_xy() \n",
    "    ax.annotate('{:.0%}'.format(height), (p.get_x()+.15*width, p.get_y() + height + 0.01))\n",
    "\n",
    "plt.show()"
   ]
  },
  {
   "cell_type": "code",
   "execution_count": null,
   "metadata": {},
   "outputs": [],
   "source": []
  }
 ],
 "metadata": {
  "kernelspec": {
   "display_name": "Python 2",
   "language": "python",
   "name": "python2"
  },
  "language_info": {
   "codemirror_mode": {
    "name": "ipython",
    "version": 2
   },
   "file_extension": ".py",
   "mimetype": "text/x-python",
   "name": "python",
   "nbconvert_exporter": "python",
   "pygments_lexer": "ipython2",
   "version": "2.7.15"
  }
 },
 "nbformat": 4,
 "nbformat_minor": 2
}
